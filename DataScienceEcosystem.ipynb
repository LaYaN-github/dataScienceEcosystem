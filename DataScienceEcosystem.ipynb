{
 "cells": [
  {
   "cell_type": "markdown",
   "id": "4077350c-5940-4777-b6df-e9f9984bae76",
   "metadata": {},
   "source": [
    "# Data Science Tools and Ecosystem"
   ]
  },
  {
   "cell_type": "markdown",
   "id": "8aae81c4-b85b-48fa-97c7-99d168710e72",
   "metadata": {
    "tags": []
   },
   "source": [
    "In this notebook, Data Science Tools and Ecosystem are summarized."
   ]
  },
  {
   "cell_type": "markdown",
   "id": "b0c9ea64-70cd-4154-abfa-7a21f20f1b61",
   "metadata": {},
   "source": [
    "Some of the popular languages that Data Scientists use are:\n",
    "1. Python\n",
    "2. R\n",
    "3. SQL\n",
    "4. Java"
   ]
  },
  {
   "cell_type": "markdown",
   "id": "d2a7b9c5-b0b4-4ec5-ad72-20b331f37865",
   "metadata": {},
   "source": [
    "Some of the commonly used libraries used by Data Scientists include:\n",
    "1. Pandas\n",
    "2. Tensorflow \n",
    "3. numpy"
   ]
  },
  {
   "cell_type": "markdown",
   "id": "9ef174ae-9e8b-4598-abb1-6612355009aa",
   "metadata": {},
   "source": [
    "|  Data Science Tools |\n",
    "|---------------------|\n",
    "|    TensorFlow      |\n",
    "|      PyTorch       |\n",
    "|    MatPlotLib      |"
   ]
  },
  {
   "cell_type": "markdown",
   "id": "da49ea75-3d66-49b2-9d99-6f3f54c732d4",
   "metadata": {},
   "source": [
    "### Below are a few examples of evaluating arithmetic expressions in Python\n",
    "1. + (Addition)\n",
    "2. * (Multiplication)\n",
    "3. % (Remainder)"
   ]
  },
  {
   "cell_type": "code",
   "execution_count": 6,
   "id": "d665103a-4c3f-4b17-8bc9-c79066a8fd58",
   "metadata": {
    "tags": []
   },
   "outputs": [],
   "source": [
    "# This a simple arithmetic expression to mutiply then add integers"
   ]
  },
  {
   "cell_type": "code",
   "execution_count": 7,
   "id": "1323d2f2-8dd9-46de-a01a-e0fd4780b147",
   "metadata": {
    "tags": []
   },
   "outputs": [
    {
     "data": {
      "text/plain": [
       "17"
      ]
     },
     "execution_count": 7,
     "metadata": {},
     "output_type": "execute_result"
    }
   ],
   "source": [
    "(3*4)+5"
   ]
  },
  {
   "cell_type": "code",
   "execution_count": 8,
   "id": "40ca413a-2f0f-43f0-a249-39878a1224cb",
   "metadata": {
    "tags": []
   },
   "outputs": [],
   "source": [
    "# This will convert 200 minutes to hours by diving by 60"
   ]
  },
  {
   "cell_type": "code",
   "execution_count": 11,
   "id": "526b9d49-91aa-408d-987e-9868ca74e6f6",
   "metadata": {
    "tags": []
   },
   "outputs": [
    {
     "data": {
      "text/plain": [
       "3.3333333333333335"
      ]
     },
     "execution_count": 11,
     "metadata": {},
     "output_type": "execute_result"
    }
   ],
   "source": [
    "200/60"
   ]
  },
  {
   "cell_type": "markdown",
   "id": "599e078f-e2df-404b-8c3d-b7a6978771fc",
   "metadata": {},
   "source": [
    "Objectives:\n",
    "- C++\n",
    "- Python \n",
    "- julia\n",
    "- javascript"
   ]
  },
  {
   "cell_type": "markdown",
   "id": "fadba724-e6b5-45bf-990b-6f00b808be7c",
   "metadata": {},
   "source": [
    "## Author\n",
    "Layan Nasser "
   ]
  },
  {
   "cell_type": "code",
   "execution_count": null,
   "id": "d60ff110-bd64-4455-b56c-8492d8ee3fc7",
   "metadata": {},
   "outputs": [],
   "source": []
  }
 ],
 "metadata": {
  "kernelspec": {
   "display_name": "Python",
   "language": "python",
   "name": "conda-env-python-py"
  },
  "language_info": {
   "codemirror_mode": {
    "name": "ipython",
    "version": 3
   },
   "file_extension": ".py",
   "mimetype": "text/x-python",
   "name": "python",
   "nbconvert_exporter": "python",
   "pygments_lexer": "ipython3",
   "version": "3.7.12"
  }
 },
 "nbformat": 4,
 "nbformat_minor": 5
}
